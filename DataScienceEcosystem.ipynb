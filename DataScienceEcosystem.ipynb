{
 "cells": [
  {
   "cell_type": "markdown",
   "id": "aef2d084-cbb8-4558-a71a-f6656290ee65",
   "metadata": {},
   "source": [
    "# Data Science Tools and Ecosystem"
   ]
  },
  {
   "cell_type": "markdown",
   "id": "28b56d58-a655-4a7c-9f8b-e9b074893657",
   "metadata": {},
   "source": [
    "In this notebook, Data Science Tools and Ecosystem are summarized."
   ]
  },
  {
   "cell_type": "markdown",
   "id": "4d287075-3e59-4b89-a2af-a98a30ef4775",
   "metadata": {},
   "source": [
    "__Objectives:__\n",
    "- List popular languages for Data Science\n",
    "- Hands on experience with Python & R\n",
    "- Assess my skills"
   ]
  },
  {
   "cell_type": "markdown",
   "id": "a404452f-c069-42a0-9adb-fa0f11a3e11b",
   "metadata": {},
   "source": [
    "Some of the popular languages that Data Scientists use are:\n",
    "1. SQL\n",
    "2. C\n",
    "3. Java\n",
    "4. SAS"
   ]
  },
  {
   "cell_type": "markdown",
   "id": "a74def58-fbc8-4336-862f-8a7a2dab95b2",
   "metadata": {},
   "source": [
    "Some of the commonly used libraries used by Data Scientists include:\n",
    "- Numpy\n",
    "- ggplot\n",
    "- plotly"
   ]
  },
  {
   "cell_type": "markdown",
   "id": "aae7186b-938e-49a1-96e5-6ad64c631ec5",
   "metadata": {},
   "source": [
    "Data Science Tools| \n",
    "------------- |\n",
    "SAS  | \n",
    "Python  | \n",
    "R  | "
   ]
  },
  {
   "cell_type": "markdown",
   "id": "c40f616e-5c33-471d-ae76-d0c86712ade1",
   "metadata": {},
   "source": [
    "### Below are a few examples of evaluating arithmetic expressions in Python"
   ]
  },
  {
   "cell_type": "markdown",
   "id": "0a5b3f52-b083-4855-8d10-b5a0cb578c69",
   "metadata": {},
   "source": [
    "_This a simple arithmetic expression to mutiply then add integers_\n"
   ]
  },
  {
   "cell_type": "code",
   "execution_count": 3,
   "id": "4e09e789-9bef-48be-83ef-0b39b6d447aa",
   "metadata": {},
   "outputs": [
    {
     "data": {
      "text/plain": [
       "17"
      ]
     },
     "execution_count": 3,
     "metadata": {},
     "output_type": "execute_result"
    }
   ],
   "source": [
    "(3*4)+5"
   ]
  },
  {
   "cell_type": "markdown",
   "id": "c8da2208-a2d0-4a9e-a88e-e5bfe94dfe25",
   "metadata": {},
   "source": [
    "_This will convert 200 minutes to hours by diving by 60_"
   ]
  },
  {
   "cell_type": "code",
   "execution_count": 5,
   "id": "9f6d410a-9cc3-45ef-9835-5a8e64bd3a9e",
   "metadata": {},
   "outputs": [
    {
     "data": {
      "text/plain": [
       "3.3333333333333335"
      ]
     },
     "execution_count": 5,
     "metadata": {},
     "output_type": "execute_result"
    }
   ],
   "source": [
    "200/60"
   ]
  },
  {
   "cell_type": "markdown",
   "id": "fa2d4b91-ec73-4bbe-9394-ff517d3f04d3",
   "metadata": {},
   "source": [
    "## Author\n",
    "\n",
    "Pradeep Aggarwal"
   ]
  },
  {
   "cell_type": "code",
   "execution_count": null,
   "id": "406f34c6-b49f-40b8-a01f-dba691160112",
   "metadata": {},
   "outputs": [],
   "source": []
  }
 ],
 "metadata": {
  "kernelspec": {
   "display_name": "Python 3 (ipykernel)",
   "language": "python",
   "name": "python3"
  },
  "language_info": {
   "codemirror_mode": {
    "name": "ipython",
    "version": 3
   },
   "file_extension": ".py",
   "mimetype": "text/x-python",
   "name": "python",
   "nbconvert_exporter": "python",
   "pygments_lexer": "ipython3",
   "version": "3.11.7"
  }
 },
 "nbformat": 4,
 "nbformat_minor": 5
}
